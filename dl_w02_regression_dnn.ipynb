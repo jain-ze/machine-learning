{
  "nbformat": 4,
  "nbformat_minor": 0,
  "metadata": {
    "colab": {
      "provenance": [],
      "gpuType": "T4",
      "authorship_tag": "ABX9TyNsr/RYonOGDox5bGW9ToZW",
      "include_colab_link": true
    },
    "kernelspec": {
      "name": "python3",
      "display_name": "Python 3"
    },
    "language_info": {
      "name": "python"
    },
    "accelerator": "GPU"
  },
  "cells": [
    {
      "cell_type": "markdown",
      "metadata": {
        "id": "view-in-github",
        "colab_type": "text"
      },
      "source": [
        "<a href=\"https://colab.research.google.com/github/jain-ze/machine-learning/blob/main/dl_w02_regression_dnn.ipynb\" target=\"_parent\"><img src=\"https://colab.research.google.com/assets/colab-badge.svg\" alt=\"Open In Colab\"/></a>"
      ]
    },
    {
      "cell_type": "markdown",
      "source": [
        "#**Regression DNN 迴歸深度神經網路**\n"
      ],
      "metadata": {
        "id": "OnFkaNmkofUS"
      }
    },
    {
      "cell_type": "markdown",
      "source": [
        "**什麼是迴歸深度神經網路？**\n",
        "\n",
        "迴歸深度神經網路是一種使用深度學習技術來預測連續數值輸出的神經網路。與分類任務不同，迴歸任務的目標是預測一個或多個連續的數值，例如房價、股票價格、溫度等。\n",
        "\n",
        "**迴歸深度神經網路如何運作？**\n",
        "\n",
        "迴歸深度神經網路的基本架構與用於分類的深度神經網路相似，都包含以下主要部分：\n",
        "\n",
        "1.  **輸入層（Input Layer）：** 接收輸入特徵（features）。每個節點代表一個輸入特徵。\n",
        "2.  **隱藏層（Hidden Layers）：** 由多個相互連接的神經元層組成。這些層負責從輸入資料中學習複雜的模式和關係。深度神經網路之所以稱為「深度」，就是因為它包含多個隱藏層。\n",
        "3.  **激活函數（Activation Functions）：** 應用於隱藏層的每個神經元，引入非線性特性，使網路能夠學習更複雜的函數。常見的激活函數包括 ReLU、Sigmoid 和 Tanh。\n",
        "4.  **輸出層（Output Layer）：** 產生最終的預測值。對於單一數值迴歸任務，輸出層通常只有一個神經元。\n",
        "5.  **損失函數（Loss Function）：** 用於衡量模型預測值與實際值之間的差異。在迴歸任務中，常用的損失函數包括均方誤差（Mean Squared Error, MSE）、平均絕對誤差（Mean Absolute Error, MAE）等。\n",
        "**訓練過程：**\n",
        "\n",
        "訓練迴歸深度神經網路的過程與訓練其他神經網路類似，主要包括以下步驟：\n",
        "\n",
        "1.  **前向傳播（Forward Propagation）：** 輸入資料通過網路，計算出輸出層的預測值。\n",
        "2.  **計算損失（Calculate Loss）：** 使用損失函數比較預測值和實際值，計算出損失。\n",
        "3.  **反向傳播（Backpropagation）：** 根據損失值，計算每個權重和偏差的梯度。\n",
        "4.  **優化（Optimization）：** 使用優化演算法（例如梯度下降、Adam、RMSprop）更新權重和偏差，以最小化損失。\n",
        "5.  **迭代（Iteration）：** 重複以上步驟，直到模型在驗證集上的性能達到滿意的水平。\n",
        "**迴歸深度神經網路的優點：**\n",
        "\n",
        "1.  **強大的特徵學習能力：** 深度神經網路可以自動從原始資料中學習到複雜且有用的特徵，無需人工進行特徵工程。\n",
        "2.  **處理高維度資料：** 能夠有效地處理具有大量輸入特徵的資料集。\n",
        "3.  **捕捉非線性關係：** 透過多個隱藏層和非線性激活函數，可以學習複雜的非線性關係。\n",
        "4.  **適用於複雜的迴歸問題：** 在許多複雜的迴歸任務中，例如時間序列預測、自然語言處理中的情感分析（預測情感強度）等，表現出色。\n",
        "**迴歸深度神經網路的缺點：**\n",
        "\n",
        "1.  **需要大量的資料：** 訓練一個性能良好的深度神經網路通常需要大量的標註資料。\n",
        "2.  **訓練成本高：** 由於網路結構複雜，訓練時間可能較長，需要較高的計算資源。\n",
        "3.  **容易過擬合（Overfitting）：** 如果訓練資料不足或模型過於複雜，容易在訓練集上表現很好，但在未見過的資料上表現很差。需要使用正則化技術（例如 L1、L2 正則化、Dropout）來緩解過擬合。\n",
        "4.  **模型解釋性較差：** 深度神經網路的內部運作機制相對複雜，難以直觀地解釋模型的預測結果。\n",
        "5.  **超參數調整困難：** 網路的層數、每層的神經元數量、學習率等超參數的選擇對模型性能有很大影響，需要仔細調整。\n",
        "**迴歸深度神經網路的常見應用：**\n",
        "\n",
        "1.  **房價預測： 根據房屋的各種特徵（例如面積、地理位置、房間數量等）預測房價。\n",
        "股票價格預測： 分析歷史股價、交易量、新聞等資訊來預測未來的股價走勢。\n",
        "2.  **需求預測：** 預測產品或服務的未來需求量，例如零售業的銷售預測。\n",
        "3.  **天氣預報：** 分析歷史氣象資料來預測未來的溫度、降雨量等。\n",
        "4.  **健康監測：** 根據生理感測器數據預測病患的健康狀況或疾病風險。\n",
        "5.  **自然語言處理：** 例如預測文本的情感強度、評分等。\n",
        "6.  **電腦視覺：** 例如預測圖像中物體的數量或大小。\n",
        "**總結：**\n",
        "\n",
        "迴歸深度神經網路是一種強大的工具，適用於解決複雜的迴歸問題。然而，它也需要大量的資料、計算資源和仔細的超參數調整。在實際應用中，需要根據具體的任務和資料情況來選擇合適的模型和訓練策略。"
      ],
      "metadata": {
        "id": "gHD55QnrpptO"
      }
    },
    {
      "cell_type": "code",
      "execution_count": null,
      "metadata": {
        "id": "UGEGg42XB2xp"
      },
      "outputs": [],
      "source": [
        "# Regression DNN 迴歸深度神經網路\n",
        "import numpy as np\n",
        "import pandas as pd\n",
        "import matplotlib.pyplot as plt"
      ]
    },
    {
      "source": [
        "!pip install tensorflow"
      ],
      "cell_type": "code",
      "metadata": {
        "id": "R4MLeMAECqAl",
        "colab": {
          "base_uri": "https://localhost:8080/"
        },
        "outputId": "d2783909-2e9b-4392-fdc3-d8610c02ad40",
        "collapsed": true
      },
      "execution_count": null,
      "outputs": [
        {
          "output_type": "stream",
          "name": "stdout",
          "text": [
            "Requirement already satisfied: tensorflow in /usr/local/lib/python3.11/dist-packages (2.18.0)\n",
            "Requirement already satisfied: absl-py>=1.0.0 in /usr/local/lib/python3.11/dist-packages (from tensorflow) (1.4.0)\n",
            "Requirement already satisfied: astunparse>=1.6.0 in /usr/local/lib/python3.11/dist-packages (from tensorflow) (1.6.3)\n",
            "Requirement already satisfied: flatbuffers>=24.3.25 in /usr/local/lib/python3.11/dist-packages (from tensorflow) (25.2.10)\n",
            "Requirement already satisfied: gast!=0.5.0,!=0.5.1,!=0.5.2,>=0.2.1 in /usr/local/lib/python3.11/dist-packages (from tensorflow) (0.6.0)\n",
            "Requirement already satisfied: google-pasta>=0.1.1 in /usr/local/lib/python3.11/dist-packages (from tensorflow) (0.2.0)\n",
            "Requirement already satisfied: libclang>=13.0.0 in /usr/local/lib/python3.11/dist-packages (from tensorflow) (18.1.1)\n",
            "Requirement already satisfied: opt-einsum>=2.3.2 in /usr/local/lib/python3.11/dist-packages (from tensorflow) (3.4.0)\n",
            "Requirement already satisfied: packaging in /usr/local/lib/python3.11/dist-packages (from tensorflow) (24.2)\n",
            "Requirement already satisfied: protobuf!=4.21.0,!=4.21.1,!=4.21.2,!=4.21.3,!=4.21.4,!=4.21.5,<6.0.0dev,>=3.20.3 in /usr/local/lib/python3.11/dist-packages (from tensorflow) (5.29.4)\n",
            "Requirement already satisfied: requests<3,>=2.21.0 in /usr/local/lib/python3.11/dist-packages (from tensorflow) (2.32.3)\n",
            "Requirement already satisfied: setuptools in /usr/local/lib/python3.11/dist-packages (from tensorflow) (75.2.0)\n",
            "Requirement already satisfied: six>=1.12.0 in /usr/local/lib/python3.11/dist-packages (from tensorflow) (1.17.0)\n",
            "Requirement already satisfied: termcolor>=1.1.0 in /usr/local/lib/python3.11/dist-packages (from tensorflow) (3.0.1)\n",
            "Requirement already satisfied: typing-extensions>=3.6.6 in /usr/local/lib/python3.11/dist-packages (from tensorflow) (4.13.1)\n",
            "Requirement already satisfied: wrapt>=1.11.0 in /usr/local/lib/python3.11/dist-packages (from tensorflow) (1.17.2)\n",
            "Requirement already satisfied: grpcio<2.0,>=1.24.3 in /usr/local/lib/python3.11/dist-packages (from tensorflow) (1.71.0)\n",
            "Requirement already satisfied: tensorboard<2.19,>=2.18 in /usr/local/lib/python3.11/dist-packages (from tensorflow) (2.18.0)\n",
            "Requirement already satisfied: keras>=3.5.0 in /usr/local/lib/python3.11/dist-packages (from tensorflow) (3.8.0)\n",
            "Requirement already satisfied: numpy<2.1.0,>=1.26.0 in /usr/local/lib/python3.11/dist-packages (from tensorflow) (2.0.2)\n",
            "Requirement already satisfied: h5py>=3.11.0 in /usr/local/lib/python3.11/dist-packages (from tensorflow) (3.13.0)\n",
            "Requirement already satisfied: ml-dtypes<0.5.0,>=0.4.0 in /usr/local/lib/python3.11/dist-packages (from tensorflow) (0.4.1)\n",
            "Requirement already satisfied: tensorflow-io-gcs-filesystem>=0.23.1 in /usr/local/lib/python3.11/dist-packages (from tensorflow) (0.37.1)\n",
            "Requirement already satisfied: wheel<1.0,>=0.23.0 in /usr/local/lib/python3.11/dist-packages (from astunparse>=1.6.0->tensorflow) (0.45.1)\n",
            "Requirement already satisfied: rich in /usr/local/lib/python3.11/dist-packages (from keras>=3.5.0->tensorflow) (13.9.4)\n",
            "Requirement already satisfied: namex in /usr/local/lib/python3.11/dist-packages (from keras>=3.5.0->tensorflow) (0.0.8)\n",
            "Requirement already satisfied: optree in /usr/local/lib/python3.11/dist-packages (from keras>=3.5.0->tensorflow) (0.14.1)\n",
            "Requirement already satisfied: charset-normalizer<4,>=2 in /usr/local/lib/python3.11/dist-packages (from requests<3,>=2.21.0->tensorflow) (3.4.1)\n",
            "Requirement already satisfied: idna<4,>=2.5 in /usr/local/lib/python3.11/dist-packages (from requests<3,>=2.21.0->tensorflow) (3.10)\n",
            "Requirement already satisfied: urllib3<3,>=1.21.1 in /usr/local/lib/python3.11/dist-packages (from requests<3,>=2.21.0->tensorflow) (2.3.0)\n",
            "Requirement already satisfied: certifi>=2017.4.17 in /usr/local/lib/python3.11/dist-packages (from requests<3,>=2.21.0->tensorflow) (2025.1.31)\n",
            "Requirement already satisfied: markdown>=2.6.8 in /usr/local/lib/python3.11/dist-packages (from tensorboard<2.19,>=2.18->tensorflow) (3.7)\n",
            "Requirement already satisfied: tensorboard-data-server<0.8.0,>=0.7.0 in /usr/local/lib/python3.11/dist-packages (from tensorboard<2.19,>=2.18->tensorflow) (0.7.2)\n",
            "Requirement already satisfied: werkzeug>=1.0.1 in /usr/local/lib/python3.11/dist-packages (from tensorboard<2.19,>=2.18->tensorflow) (3.1.3)\n",
            "Requirement already satisfied: MarkupSafe>=2.1.1 in /usr/local/lib/python3.11/dist-packages (from werkzeug>=1.0.1->tensorboard<2.19,>=2.18->tensorflow) (3.0.2)\n",
            "Requirement already satisfied: markdown-it-py>=2.2.0 in /usr/local/lib/python3.11/dist-packages (from rich->keras>=3.5.0->tensorflow) (3.0.0)\n",
            "Requirement already satisfied: pygments<3.0.0,>=2.13.0 in /usr/local/lib/python3.11/dist-packages (from rich->keras>=3.5.0->tensorflow) (2.18.0)\n",
            "Requirement already satisfied: mdurl~=0.1 in /usr/local/lib/python3.11/dist-packages (from markdown-it-py>=2.2.0->rich->keras>=3.5.0->tensorflow) (0.1.2)\n"
          ]
        }
      ]
    },
    {
      "cell_type": "markdown",
      "source": [
        "#DATA"
      ],
      "metadata": {
        "id": "AEJywaOGrhvi"
      }
    },
    {
      "cell_type": "code",
      "source": [
        "#Data\n",
        "from tensorflow.keras.datasets import boston_housing\n",
        "(x_train_set, y_train_set), (x_test, y_test) = boston_housing.load_data()\n",
        "#Check Data\n",
        "print(x_train_set.shape , y_train_set.shape)\n",
        "#x_train_set有404個樣本，每個樣本有13個features，404個y的值\n",
        "#x_test有102個樣本 13個features，102個y的值\n",
        "print(x_test.shape , y_test.shape)"
      ],
      "metadata": {
        "colab": {
          "base_uri": "https://localhost:8080/"
        },
        "id": "IBM6L1e8DQwl",
        "outputId": "386c77cc-4c34-459f-8450-828bc7b44afc"
      },
      "execution_count": null,
      "outputs": [
        {
          "output_type": "stream",
          "name": "stdout",
          "text": [
            "(404, 13) (404,)\n",
            "(102, 13) (102,)\n"
          ]
        }
      ]
    },
    {
      "cell_type": "code",
      "source": [
        "# Splite Data(分割資料)\n",
        "from sklearn.model_selection import train_test_split\n",
        "x_train, x_valid, y_train, y_valid = train_test_split(\n",
        "    x_train_set, y_train_set, test_size=0.25, random_state=1)"
      ],
      "metadata": {
        "id": "RAL7LpbjFmRl"
      },
      "execution_count": null,
      "outputs": []
    },
    {
      "cell_type": "code",
      "source": [
        "#Preprocessing(預處理)迴歸的資料要先做資料標準化\n",
        "from sklearn.preprocessing import StandardScaler\n",
        "scaler = StandardScaler()\n",
        "x_train = scaler.fit_transform(x_train)\n",
        "x_valid = scaler.transform(x_valid)\n",
        "x_test = scaler.transform(x_test)"
      ],
      "metadata": {
        "id": "bATyjPVoGi9Y"
      },
      "execution_count": null,
      "outputs": []
    },
    {
      "cell_type": "markdown",
      "source": [
        "fit_transform 會同時 計算特徵的均值與標準差，並對資料進行標準化，而 transform 則是用已經計算出的均值與標準差來進行轉換。\n",
        "\n",
        "避免數據洩漏 (Data Leakage)： 當你對 x_valid 使用 fit_transform 時，它會用驗證集本身的數據計算均值與標準差。但驗證集的作用是模擬模型在未知數據上的表現，若用它的數據來重新計算這些統計量，便會破壞驗證集的「未知性」。\n",
        "\n",
        "一致性： 驗證集和測試集的特徵應基於與訓練集相同的均值與標準差進行標準化，這樣模型看到的數據分佈才一致。不然的話，訓練集和驗證集可能因標準化基準不同而帶來偏差。\n",
        "\n",
        "所以，你需要對 x_train 使用 fit_transform 來計算均值和標準差，而對 x_valid 和 x_test 則使用 transform，保持與訓練集一致。\n"
      ],
      "metadata": {
        "id": "KPeQ_5LjIgzz"
      }
    },
    {
      "cell_type": "code",
      "source": [
        "# 1 Build Model 建構模型\n",
        "import tensorflow as tf\n",
        "from tensorflow import keras\n",
        "from tensorflow.keras.models import Sequential #模型的建構我們用Sequential的這個方法\n",
        "from tensorflow.keras.layers import Dense #建構隱藏層，隱藏層我們用Dense的這個函數\n",
        "from tensorflow.keras.optimizers import SGD #訓練模型的時候，我們會用到隨機梯度下降法也就是SGD來訓練\n",
        "\n",
        "keras.backend.clear_session() #把先前做的一些設定全部把它clear做一個reset\n",
        "np.random.seed(1)\n",
        "tf.random.set_seed(1)\n",
        "#如果要產生這個tensorflow的隨機變數也要set_seed這樣子就可以確保我這邊跑的結果跟你的跑的結果會是一樣的\n",
        "x_train.shape , x_valid.shape, x_test.shape\n"
      ],
      "metadata": {
        "colab": {
          "base_uri": "https://localhost:8080/"
        },
        "id": "OJOojXpjJEx_",
        "outputId": "c7039d5f-4138-429c-946b-ecadac6ca7c4"
      },
      "execution_count": null,
      "outputs": [
        {
          "output_type": "execute_result",
          "data": {
            "text/plain": [
              "((303, 13), (101, 13), (102, 13))"
            ]
          },
          "metadata": {},
          "execution_count": 6
        }
      ]
    },
    {
      "cell_type": "markdown",
      "source": [
        "#Build Model"
      ],
      "metadata": {
        "id": "u-tJcTvHrsPQ"
      }
    },
    {
      "cell_type": "markdown",
      "source": [
        "我們說我們的模型是要用Sequential這一個方法\n",
        "所以第一步我們就\n",
        "\n",
        "把model等於Sequential所以我們的模型就叫作model這個名稱\n",
        "\n",
        "那它是一個Sequential的，也就是可以逐一的去加入我們的每一個層\n",
        "\n",
        "接下來我們就可以用add來一層一層的加入\n",
        "\n",
        "那首先input layer在這邊我們不需要寫進去\n",
        "\n",
        "我們現在add這個dence就是我們的第一個隱藏層\n",
        "\n",
        "那input layer的informationr就在input_shape是多少也就是我們的input的這個data\n",
        "\n",
        "它的features是多少因此我們就用x_train.shape[1:]，然後1之後的這個維度x_train它的shape，是303 也就是303個樣本，然後這個1以後的維度是13，也就是告訴我們，它的input會有13個神經元\n",
        "\n",
        "所以這個1之後就是13這個數值，告訴我們它接收到的是input layer的神經元 有13個當然還要再加上bias\n",
        "\n",
        "那我們這一層隱藏層要有幾個神經元呢，我們設定100個，那在這裡我們可以寫units就是要多少個神經元 等於100\n",
        "\n",
        "那這個神經元我們的觸發函數要使用什麼呢在這裡我們用relu這個觸發函數這是第一個隱藏層\n",
        "\n",
        "接下來建構第2個隱藏層，持續把它加上去，那第二個隱藏層也是dense layer然後有50個神經元，那我用的觸發函數一樣是relu\n",
        "\n",
        "最後我們加上output layer也是一個dense層，那它只有一個神經元，因為我們只要預測房價這一個項目而已，所以我們只要一個神經元就可以了，那在這裡我們不設定觸發函數。\n",
        "\n",
        "所以這個深度神經網路模型用Sequential這個方法就可以像疊積木一樣，一層一層的把它疊上去"
      ],
      "metadata": {
        "id": "uKnoCcxvNjnS"
      }
    },
    {
      "cell_type": "code",
      "source": [
        "model = Sequential() #建構模型，Sequential也就是可以逐一的去加入我們的每一個層\n",
        "#接下來我們就可以用add來一層一層的加入\n",
        "model.add(Dense(units=100, activation=\"relu\", input_shape=x_train.shape[1:])) #第一個隱藏層，那input layer的informationr就在input_shape是多少?13個神經元\n",
        "model.add(Dense(units=50, activation=\"relu\"))\n",
        "model.add(Dense(1))\n",
        "model.summary()#檢視組合出的模型"
      ],
      "metadata": {
        "colab": {
          "base_uri": "https://localhost:8080/",
          "height": 282
        },
        "id": "H4l3uhYbKgz0",
        "outputId": "a67780e4-fa00-449a-e6c2-bd57dcf2720f"
      },
      "execution_count": null,
      "outputs": [
        {
          "output_type": "stream",
          "name": "stderr",
          "text": [
            "/usr/local/lib/python3.11/dist-packages/keras/src/layers/core/dense.py:87: UserWarning: Do not pass an `input_shape`/`input_dim` argument to a layer. When using Sequential models, prefer using an `Input(shape)` object as the first layer in the model instead.\n",
            "  super().__init__(activity_regularizer=activity_regularizer, **kwargs)\n"
          ]
        },
        {
          "output_type": "display_data",
          "data": {
            "text/plain": [
              "\u001b[1mModel: \"sequential\"\u001b[0m\n"
            ],
            "text/html": [
              "<pre style=\"white-space:pre;overflow-x:auto;line-height:normal;font-family:Menlo,'DejaVu Sans Mono',consolas,'Courier New',monospace\"><span style=\"font-weight: bold\">Model: \"sequential\"</span>\n",
              "</pre>\n"
            ]
          },
          "metadata": {}
        },
        {
          "output_type": "display_data",
          "data": {
            "text/plain": [
              "┏━━━━━━━━━━━━━━━━━━━━━━━━━━━━━━━━━━━━━━┳━━━━━━━━━━━━━━━━━━━━━━━━━━━━━┳━━━━━━━━━━━━━━━━━┓\n",
              "┃\u001b[1m \u001b[0m\u001b[1mLayer (type)                        \u001b[0m\u001b[1m \u001b[0m┃\u001b[1m \u001b[0m\u001b[1mOutput Shape               \u001b[0m\u001b[1m \u001b[0m┃\u001b[1m \u001b[0m\u001b[1m        Param #\u001b[0m\u001b[1m \u001b[0m┃\n",
              "┡━━━━━━━━━━━━━━━━━━━━━━━━━━━━━━━━━━━━━━╇━━━━━━━━━━━━━━━━━━━━━━━━━━━━━╇━━━━━━━━━━━━━━━━━┩\n",
              "│ dense (\u001b[38;5;33mDense\u001b[0m)                        │ (\u001b[38;5;45mNone\u001b[0m, \u001b[38;5;34m100\u001b[0m)                 │           \u001b[38;5;34m1,400\u001b[0m │\n",
              "├──────────────────────────────────────┼─────────────────────────────┼─────────────────┤\n",
              "│ dense_1 (\u001b[38;5;33mDense\u001b[0m)                      │ (\u001b[38;5;45mNone\u001b[0m, \u001b[38;5;34m50\u001b[0m)                  │           \u001b[38;5;34m5,050\u001b[0m │\n",
              "├──────────────────────────────────────┼─────────────────────────────┼─────────────────┤\n",
              "│ dense_2 (\u001b[38;5;33mDense\u001b[0m)                      │ (\u001b[38;5;45mNone\u001b[0m, \u001b[38;5;34m1\u001b[0m)                   │              \u001b[38;5;34m51\u001b[0m │\n",
              "└──────────────────────────────────────┴─────────────────────────────┴─────────────────┘\n"
            ],
            "text/html": [
              "<pre style=\"white-space:pre;overflow-x:auto;line-height:normal;font-family:Menlo,'DejaVu Sans Mono',consolas,'Courier New',monospace\">┏━━━━━━━━━━━━━━━━━━━━━━━━━━━━━━━━━━━━━━┳━━━━━━━━━━━━━━━━━━━━━━━━━━━━━┳━━━━━━━━━━━━━━━━━┓\n",
              "┃<span style=\"font-weight: bold\"> Layer (type)                         </span>┃<span style=\"font-weight: bold\"> Output Shape                </span>┃<span style=\"font-weight: bold\">         Param # </span>┃\n",
              "┡━━━━━━━━━━━━━━━━━━━━━━━━━━━━━━━━━━━━━━╇━━━━━━━━━━━━━━━━━━━━━━━━━━━━━╇━━━━━━━━━━━━━━━━━┩\n",
              "│ dense (<span style=\"color: #0087ff; text-decoration-color: #0087ff\">Dense</span>)                        │ (<span style=\"color: #00d7ff; text-decoration-color: #00d7ff\">None</span>, <span style=\"color: #00af00; text-decoration-color: #00af00\">100</span>)                 │           <span style=\"color: #00af00; text-decoration-color: #00af00\">1,400</span> │\n",
              "├──────────────────────────────────────┼─────────────────────────────┼─────────────────┤\n",
              "│ dense_1 (<span style=\"color: #0087ff; text-decoration-color: #0087ff\">Dense</span>)                      │ (<span style=\"color: #00d7ff; text-decoration-color: #00d7ff\">None</span>, <span style=\"color: #00af00; text-decoration-color: #00af00\">50</span>)                  │           <span style=\"color: #00af00; text-decoration-color: #00af00\">5,050</span> │\n",
              "├──────────────────────────────────────┼─────────────────────────────┼─────────────────┤\n",
              "│ dense_2 (<span style=\"color: #0087ff; text-decoration-color: #0087ff\">Dense</span>)                      │ (<span style=\"color: #00d7ff; text-decoration-color: #00d7ff\">None</span>, <span style=\"color: #00af00; text-decoration-color: #00af00\">1</span>)                   │              <span style=\"color: #00af00; text-decoration-color: #00af00\">51</span> │\n",
              "└──────────────────────────────────────┴─────────────────────────────┴─────────────────┘\n",
              "</pre>\n"
            ]
          },
          "metadata": {}
        },
        {
          "output_type": "display_data",
          "data": {
            "text/plain": [
              "\u001b[1m Total params: \u001b[0m\u001b[38;5;34m6,501\u001b[0m (25.39 KB)\n"
            ],
            "text/html": [
              "<pre style=\"white-space:pre;overflow-x:auto;line-height:normal;font-family:Menlo,'DejaVu Sans Mono',consolas,'Courier New',monospace\"><span style=\"font-weight: bold\"> Total params: </span><span style=\"color: #00af00; text-decoration-color: #00af00\">6,501</span> (25.39 KB)\n",
              "</pre>\n"
            ]
          },
          "metadata": {}
        },
        {
          "output_type": "display_data",
          "data": {
            "text/plain": [
              "\u001b[1m Trainable params: \u001b[0m\u001b[38;5;34m6,501\u001b[0m (25.39 KB)\n"
            ],
            "text/html": [
              "<pre style=\"white-space:pre;overflow-x:auto;line-height:normal;font-family:Menlo,'DejaVu Sans Mono',consolas,'Courier New',monospace\"><span style=\"font-weight: bold\"> Trainable params: </span><span style=\"color: #00af00; text-decoration-color: #00af00\">6,501</span> (25.39 KB)\n",
              "</pre>\n"
            ]
          },
          "metadata": {}
        },
        {
          "output_type": "display_data",
          "data": {
            "text/plain": [
              "\u001b[1m Non-trainable params: \u001b[0m\u001b[38;5;34m0\u001b[0m (0.00 B)\n"
            ],
            "text/html": [
              "<pre style=\"white-space:pre;overflow-x:auto;line-height:normal;font-family:Menlo,'DejaVu Sans Mono',consolas,'Courier New',monospace\"><span style=\"font-weight: bold\"> Non-trainable params: </span><span style=\"color: #00af00; text-decoration-color: #00af00\">0</span> (0.00 B)\n",
              "</pre>\n"
            ]
          },
          "metadata": {}
        }
      ]
    },
    {
      "cell_type": "markdown",
      "source": [
        "用model.summary()這個指令來叫出模型\n",
        "\n",
        "1.  一個隱藏層有100個神經元第輸入層的(13個features+1個bias)*100個神經元=1400個參數\n",
        "\n",
        "2.  第二個隱藏層設定的神經元是50個前一層的(100個神經元+1個bias)*50個神經元=5050個參數\n",
        "\n",
        "3.  output layer是1個神經元前一層的(50個神經元+1個bias)*1個神經元=51個參數\n",
        "4.  所有的參數總共有1400+5050+51=6501個\n",
        "5.  做訓練時有多少個參數是可以去更動它 去修正它的呢叫做trainable parameters有6501個 也就是所有的參數我們都會去做一個調動\n",
        "6.  不可訓練的參數有多少個呢?沒有!每個參數都可以訓練"
      ],
      "metadata": {
        "id": "3TjSf6swS9Tf"
      }
    },
    {
      "cell_type": "code",
      "source": [
        "weights, biases = model.layers[1].get_weights() #觀察layers1(dens_1)的weights, biases\n",
        "print(weights.shape, weights)#初始值隨機給的，上1層:100,這一層:50，所以shape是(100,50)\n",
        "print(biases.shape, biases) #尚未訓練先給0\n"
      ],
      "metadata": {
        "colab": {
          "base_uri": "https://localhost:8080/"
        },
        "id": "SkwHA-Jn8xSc",
        "outputId": "66eee0d4-35c8-4793-ba59-7b0d073232b2"
      },
      "execution_count": null,
      "outputs": [
        {
          "output_type": "stream",
          "name": "stdout",
          "text": [
            "(100, 50) [[-0.04601869  0.04951581 -0.14919043 ... -0.10677224 -0.0105795\n",
            "  -0.15121941]\n",
            " [ 0.06042118 -0.00705409 -0.08234787 ... -0.13671556  0.0414764\n",
            "  -0.10213275]\n",
            " [-0.15297937  0.19629456 -0.15245095 ...  0.00323454  0.18776943\n",
            "  -0.08068266]\n",
            " ...\n",
            " [-0.1683145   0.15437727 -0.16921078 ... -0.14923143 -0.19046836\n",
            "   0.09758176]\n",
            " [-0.13274747  0.09366812 -0.17213145 ... -0.02587862 -0.13016859\n",
            "  -0.17776632]\n",
            " [ 0.05860163  0.13563947 -0.18368296 ...  0.03962736  0.15242954\n",
            "  -0.12094703]]\n",
            "(50,) [0. 0. 0. 0. 0. 0. 0. 0. 0. 0. 0. 0. 0. 0. 0. 0. 0. 0. 0. 0. 0. 0. 0. 0.\n",
            " 0. 0. 0. 0. 0. 0. 0. 0. 0. 0. 0. 0. 0. 0. 0. 0. 0. 0. 0. 0. 0. 0. 0. 0.\n",
            " 0. 0.]\n"
          ]
        }
      ]
    },
    {
      "cell_type": "markdown",
      "source": [
        "#Compile"
      ],
      "metadata": {
        "id": "DZrBJ6Gir3vQ"
      }
    },
    {
      "cell_type": "code",
      "source": [
        "# 2 Complie\n",
        "model.compile(loss=\"mse\", optimizer=SGD(learning_rate=1e-3) )"
      ],
      "metadata": {
        "id": "hFlkTqxN-lj2"
      },
      "execution_count": null,
      "outputs": []
    },
    {
      "cell_type": "markdown",
      "source": [
        "#Train"
      ],
      "metadata": {
        "id": "46v6hhq4sCF3"
      }
    },
    {
      "cell_type": "code",
      "source": [
        "# 3 Train\n",
        "train = model.fit(x_train, y_train, batch_size=32, epochs=20, validation_data=(x_valid, y_valid))\n",
        "#batch_size=32(每一小批次訓練幾個樣本，預設是32個)\n",
        "#epochs 進行幾個回合\n",
        "#validation_data 驗證損失是否下降"
      ],
      "metadata": {
        "colab": {
          "base_uri": "https://localhost:8080/"
        },
        "id": "Dtpnydvo_MLL",
        "outputId": "979c37b1-c21c-49c3-948e-0f8a04333eb5"
      },
      "execution_count": null,
      "outputs": [
        {
          "output_type": "stream",
          "name": "stdout",
          "text": [
            "Epoch 1/20\n",
            "\u001b[1m10/10\u001b[0m \u001b[32m━━━━━━━━━━━━━━━━━━━━\u001b[0m\u001b[37m\u001b[0m \u001b[1m1s\u001b[0m 35ms/step - loss: 545.2584 - val_loss: 410.1183\n",
            "Epoch 2/20\n",
            "\u001b[1m10/10\u001b[0m \u001b[32m━━━━━━━━━━━━━━━━━━━━\u001b[0m\u001b[37m\u001b[0m \u001b[1m0s\u001b[0m 17ms/step - loss: 301.8599 - val_loss: 75.3180\n",
            "Epoch 3/20\n",
            "\u001b[1m10/10\u001b[0m \u001b[32m━━━━━━━━━━━━━━━━━━━━\u001b[0m\u001b[37m\u001b[0m \u001b[1m0s\u001b[0m 23ms/step - loss: 57.8142 - val_loss: 44.4313\n",
            "Epoch 4/20\n",
            "\u001b[1m10/10\u001b[0m \u001b[32m━━━━━━━━━━━━━━━━━━━━\u001b[0m\u001b[37m\u001b[0m \u001b[1m0s\u001b[0m 27ms/step - loss: 32.5096 - val_loss: 33.2748\n",
            "Epoch 5/20\n",
            "\u001b[1m10/10\u001b[0m \u001b[32m━━━━━━━━━━━━━━━━━━━━\u001b[0m\u001b[37m\u001b[0m \u001b[1m0s\u001b[0m 22ms/step - loss: 23.0928 - val_loss: 28.0859\n",
            "Epoch 6/20\n",
            "\u001b[1m10/10\u001b[0m \u001b[32m━━━━━━━━━━━━━━━━━━━━\u001b[0m\u001b[37m\u001b[0m \u001b[1m0s\u001b[0m 26ms/step - loss: 19.1780 - val_loss: 24.8060\n",
            "Epoch 7/20\n",
            "\u001b[1m10/10\u001b[0m \u001b[32m━━━━━━━━━━━━━━━━━━━━\u001b[0m\u001b[37m\u001b[0m \u001b[1m0s\u001b[0m 21ms/step - loss: 17.0111 - val_loss: 22.3558\n",
            "Epoch 8/20\n",
            "\u001b[1m10/10\u001b[0m \u001b[32m━━━━━━━━━━━━━━━━━━━━\u001b[0m\u001b[37m\u001b[0m \u001b[1m0s\u001b[0m 36ms/step - loss: 15.5023 - val_loss: 20.4054\n",
            "Epoch 9/20\n",
            "\u001b[1m10/10\u001b[0m \u001b[32m━━━━━━━━━━━━━━━━━━━━\u001b[0m\u001b[37m\u001b[0m \u001b[1m1s\u001b[0m 46ms/step - loss: 14.3100 - val_loss: 18.9223\n",
            "Epoch 10/20\n",
            "\u001b[1m10/10\u001b[0m \u001b[32m━━━━━━━━━━━━━━━━━━━━\u001b[0m\u001b[37m\u001b[0m \u001b[1m1s\u001b[0m 35ms/step - loss: 13.4021 - val_loss: 17.7165\n",
            "Epoch 11/20\n",
            "\u001b[1m10/10\u001b[0m \u001b[32m━━━━━━━━━━━━━━━━━━━━\u001b[0m\u001b[37m\u001b[0m \u001b[1m1s\u001b[0m 40ms/step - loss: 12.6518 - val_loss: 16.7463\n",
            "Epoch 12/20\n",
            "\u001b[1m10/10\u001b[0m \u001b[32m━━━━━━━━━━━━━━━━━━━━\u001b[0m\u001b[37m\u001b[0m \u001b[1m1s\u001b[0m 34ms/step - loss: 12.0248 - val_loss: 15.8983\n",
            "Epoch 13/20\n",
            "\u001b[1m10/10\u001b[0m \u001b[32m━━━━━━━━━━━━━━━━━━━━\u001b[0m\u001b[37m\u001b[0m \u001b[1m0s\u001b[0m 21ms/step - loss: 11.4733 - val_loss: 15.2014\n",
            "Epoch 14/20\n",
            "\u001b[1m10/10\u001b[0m \u001b[32m━━━━━━━━━━━━━━━━━━━━\u001b[0m\u001b[37m\u001b[0m \u001b[1m0s\u001b[0m 13ms/step - loss: 11.0000 - val_loss: 14.6202\n",
            "Epoch 15/20\n",
            "\u001b[1m10/10\u001b[0m \u001b[32m━━━━━━━━━━━━━━━━━━━━\u001b[0m\u001b[37m\u001b[0m \u001b[1m0s\u001b[0m 18ms/step - loss: 10.5878 - val_loss: 14.1582\n",
            "Epoch 16/20\n",
            "\u001b[1m10/10\u001b[0m \u001b[32m━━━━━━━━━━━━━━━━━━━━\u001b[0m\u001b[37m\u001b[0m \u001b[1m0s\u001b[0m 18ms/step - loss: 10.2328 - val_loss: 13.7799\n",
            "Epoch 17/20\n",
            "\u001b[1m10/10\u001b[0m \u001b[32m━━━━━━━━━━━━━━━━━━━━\u001b[0m\u001b[37m\u001b[0m \u001b[1m0s\u001b[0m 20ms/step - loss: 9.9153 - val_loss: 13.4699\n",
            "Epoch 18/20\n",
            "\u001b[1m10/10\u001b[0m \u001b[32m━━━━━━━━━━━━━━━━━━━━\u001b[0m\u001b[37m\u001b[0m \u001b[1m0s\u001b[0m 25ms/step - loss: 9.6400 - val_loss: 13.2218\n",
            "Epoch 19/20\n",
            "\u001b[1m10/10\u001b[0m \u001b[32m━━━━━━━━━━━━━━━━━━━━\u001b[0m\u001b[37m\u001b[0m \u001b[1m0s\u001b[0m 21ms/step - loss: 9.3809 - val_loss: 13.0158\n",
            "Epoch 20/20\n",
            "\u001b[1m10/10\u001b[0m \u001b[32m━━━━━━━━━━━━━━━━━━━━\u001b[0m\u001b[37m\u001b[0m \u001b[1m0s\u001b[0m 21ms/step - loss: 9.1649 - val_loss: 12.8790\n"
          ]
        }
      ]
    },
    {
      "cell_type": "code",
      "source": [
        "#將訓練後的資料畫成圖\n",
        "pd.DataFrame(train.history).plot()\n",
        "plt.grid(True)\n",
        "plt.show()\n",
        "#X軸:epochs 進行幾個回合\n",
        "#Y軸:loss 值"
      ],
      "metadata": {
        "colab": {
          "base_uri": "https://localhost:8080/",
          "height": 430
        },
        "id": "U52gsUkKBuXq",
        "outputId": "f596d946-66e9-4e1d-a3f1-4bfad98e7dea"
      },
      "execution_count": null,
      "outputs": [
        {
          "output_type": "display_data",
          "data": {
            "text/plain": [
              "<Figure size 640x480 with 1 Axes>"
            ],
            "image/png": "[encoded data removed]"
          },
          "metadata": {}
        }
      ]
    },
    {
      "cell_type": "markdown",
      "source": [
        "#Evaluate(評估)"
      ],
      "metadata": {
        "id": "rVuZ7b8lsJyX"
      }
    },
    {
      "cell_type": "code",
      "source": [
        "# 4 Evaluate(評估)\n",
        "print(x_test.shape)\n",
        "model.evaluate(x_test, y_test) #test資料有102筆，102/32=3.多，所以分4批評估，平均為22.624"
      ],
      "metadata": {
        "colab": {
          "base_uri": "https://localhost:8080/"
        },
        "id": "qqBKyvn4DbfU",
        "outputId": "1ab3a204-351f-43c7-b469-90fc8276819a"
      },
      "execution_count": null,
      "outputs": [
        {
          "output_type": "stream",
          "name": "stdout",
          "text": [
            "(102, 13)\n",
            "\u001b[1m4/4\u001b[0m \u001b[32m━━━━━━━━━━━━━━━━━━━━\u001b[0m\u001b[37m\u001b[0m \u001b[1m0s\u001b[0m 24ms/step - loss: 17.0223\n"
          ]
        },
        {
          "output_type": "execute_result",
          "data": {
            "text/plain": [
              "22.624576568603516"
            ]
          },
          "metadata": {},
          "execution_count": 14
        }
      ]
    },
    {
      "cell_type": "markdown",
      "source": [
        "#Predict"
      ],
      "metadata": {
        "id": "eA-0aiKpsOmX"
      }
    },
    {
      "cell_type": "code",
      "source": [
        "# 5 Predict\n",
        "print(model.predict(x_test[:10]))\n",
        "print(y_test[:10])"
      ],
      "metadata": {
        "colab": {
          "base_uri": "https://localhost:8080/"
        },
        "id": "qXikHZgtE-bg",
        "outputId": "2cd9fa14-5099-4ce0-cdca-1278cf840c68"
      },
      "execution_count": null,
      "outputs": [
        {
          "output_type": "stream",
          "name": "stdout",
          "text": [
            "\u001b[1m1/1\u001b[0m \u001b[32m━━━━━━━━━━━━━━━━━━━━\u001b[0m\u001b[37m\u001b[0m \u001b[1m0s\u001b[0m 53ms/step\n",
            "[[ 7.2232037]\n",
            " [16.89938  ]\n",
            " [20.929977 ]\n",
            " [33.12135  ]\n",
            " [25.408772 ]\n",
            " [17.266258 ]\n",
            " [27.673332 ]\n",
            " [22.812456 ]\n",
            " [19.307579 ]\n",
            " [21.261908 ]]\n",
            "[ 7.2 18.8 19.  27.  22.2 24.5 31.2 22.9 20.5 23.2]\n"
          ]
        }
      ]
    }
  ]
}